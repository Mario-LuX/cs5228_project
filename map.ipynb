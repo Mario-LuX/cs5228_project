{
 "cells": [
  {
   "cell_type": "code",
   "execution_count": null,
   "metadata": {},
   "outputs": [],
   "source": [
    "import folium\n",
    "from folium import plugins\n",
    "import pandas as pd\n",
    "\n",
    "# load data\n",
    "status = \"train\" # test\n",
    "data = pd.read_csv(f\"../Data/{status}.csv\")"
   ]
  },
  {
   "cell_type": "code",
   "execution_count": null,
   "metadata": {},
   "outputs": [],
   "source": [
    "# initialize the original Singapore map\n",
    "singpaore = folium.Map(location=[1.2907, 103.7727], zoom_start=12)\n",
    "singpaore"
   ]
  },
  {
   "cell_type": "code",
   "execution_count": null,
   "metadata": {},
   "outputs": [],
   "source": [
    "singpaore = folium.Map(location=[1.2907, 103.7727], zoom_start=12)\n",
    "\n",
    "# group data by the name of the condo\n",
    "names = data.groupby([\"name\"])[[\"lat\", \"lng\"]].mean()\n",
    "\n",
    "# Map with Num Marker\n",
    "name_num = plugins.MarkerCluster().add_to(singpaore)\n",
    "for name, lat, lng in zip(names.index, names[\"lat\"], names[\"lng\"]):\n",
    "    folium.Marker(\n",
    "        location=[lat, lng],\n",
    "        icon=None,\n",
    "        popup=name\n",
    "    ).add_to(name_num)\n",
    "singpaore.add_child(name_num)\n",
    "singpaore.save(f\"../Data/{status}_condo.html\")"
   ]
  },
  {
   "cell_type": "code",
   "execution_count": null,
   "metadata": {},
   "outputs": [],
   "source": [
    "singpaore = folium.Map(location=[1.2907, 103.7727], zoom_start=12)\n",
    "\n",
    "# Heat Map\n",
    "heatdata = data[[\"lat\", \"lng\"]].values.tolist()\n",
    "plugins.HeatMap(heatdata).add_to(singpaore)\n",
    "singpaore.save(f\"../Data/{status}_num.html\")\n"
   ]
  }
 ],
 "metadata": {
  "interpreter": {
   "hash": "12cd39420e22de47e15791762e48b1697a5e269f2bd643c2fbe2ace4a0e4d392"
  },
  "kernelspec": {
   "display_name": "Python 3.7.11 ('CS5228')",
   "language": "python",
   "name": "python3"
  },
  "language_info": {
   "codemirror_mode": {
    "name": "ipython",
    "version": 3
   },
   "file_extension": ".py",
   "mimetype": "text/x-python",
   "name": "python",
   "nbconvert_exporter": "python",
   "pygments_lexer": "ipython3",
   "version": "3.7.11"
  },
  "orig_nbformat": 4
 },
 "nbformat": 4,
 "nbformat_minor": 2
}
